{
 "cells": [
  {
   "cell_type": "markdown",
   "metadata": {},
   "source": [
    "## hu.MAP 3.0 use in conjunction with Jupyter & Python via MyBinder.org"
   ]
  },
  {
   "cell_type": "markdown",
   "metadata": {},
   "source": [
    "Choose one of the available notebooks to get started. If you are new, start at the top and work down.\n",
    "\n",
    "### Available Notebooks\n",
    "\n",
    "- [Working with PDBePISA interface lists/reports in Jupyter Basics](notebooks/Working_with_hu.MAP3_data_with_Python_in_Jupyter_Basics.ipynb)\n",
    "- Coming soon....\n",
    "\n",
    "\n",
    "#### Advanced/Technical:\n",
    "\n",
    "- [?????section probably not needed here???](notebooks/?????)\n",
    "\n",
    "#### Related\n",
    "\n",
    "\n",
    "- [my Unipressed-binder repo](https://github.com/fomightez/Unipressed-binder) has many examples of using the `Unipressed` package with Python to access data on Uniprot progrommatically.\n",
    "\n",
    "-----"
   ]
  }
 ],
 "metadata": {
  "kernelspec": {
   "display_name": "Python 3 (ipykernel)",
   "language": "python",
   "name": "python3"
  },
  "language_info": {
   "codemirror_mode": {
    "name": "ipython",
    "version": 3
   },
   "file_extension": ".py",
   "mimetype": "text/x-python",
   "name": "python",
   "nbconvert_exporter": "python",
   "pygments_lexer": "ipython3",
   "version": "3.10.12"
  }
 },
 "nbformat": 4,
 "nbformat_minor": 4
}