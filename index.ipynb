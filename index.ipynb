{
 "cells": [
  {
   "cell_type": "markdown",
   "metadata": {},
   "source": [
    "## hu.MAP 3.0 use in conjunction with Jupyter & Python via MyBinder.org"
   ]
  },
  {
   "cell_type": "markdown",
   "metadata": {},
   "source": [
    "Choose one of the available notebooks to get started. If you are new, start at the top and work down.\n",
    "\n",
    "### Available Notebooks\n",
    "\n",
    "- [Working with with hu.MAP3 data in Jupyter Basics](Working_with_hu.MAP3_data_with_Python_in_Jupyter_Basics.ipynb)\n",
    "- [Making summary report notebooks & associated files for the hu.MAP3 complexes for many proteins](Making_many_hu.MAP3_reports_easily_using_Snakemake.ipynb)\n",
    "- Coming soon....\n",
    "\n",
    "\n",
    "#### Advanced/Technical:\n",
    "\n",
    "- [(Technical) Jupyter Notebook Standardizing Identifier Order In Adjacent Columns in hu.MAP3-provided CSV](additional_nbs/standardizing_initial_data/README_as.ipynb)\n",
    "\n",
    "#### Related\n",
    "\n",
    "\n",
    "- [my Unipressed-binder repo](https://github.com/fomightez/Unipressed-binder) has many examples of using the `Unipressed` package with Python to access data on UniProt programmatically.\n",
    "\n",
    "-----"
   ]
  }
 ],
 "metadata": {
  "kernelspec": {
   "display_name": "Python 3 (ipykernel)",
   "language": "python",
   "name": "python3"
  },
  "language_info": {
   "codemirror_mode": {
    "name": "ipython",
    "version": 3
   },
   "file_extension": ".py",
   "mimetype": "text/x-python",
   "name": "python",
   "nbconvert_exporter": "python",
   "pygments_lexer": "ipython3",
   "version": "3.10.12"
  }
 },
 "nbformat": 4,
 "nbformat_minor": 4
}