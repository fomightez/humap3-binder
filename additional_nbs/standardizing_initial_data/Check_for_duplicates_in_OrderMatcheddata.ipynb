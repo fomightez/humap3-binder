{
 "cells": [
  {
   "cell_type": "markdown",
   "id": "6765dab3-c001-4a71-9c39-87f40833bdb3",
   "metadata": {},
   "source": [
    "### Checking for duplicates in the two main columns\n",
    "\n",
    "I observed some duplicates in the `Uniprot_ACCs` & `genenames` columns in the **raw** hu.MAP 2.0 data and I realized I was sure I had looked if such a thing was true of the hu.MAP 3.0 data.\n",
    "\n",
    "Going to check that out now in the **standardized, balanced FIXED In-Order Matched CSV data**. At this point, **that is what I am using, and so is most important.**   \n",
    "Separately, I checked by the same way in the raw hu.MAP 3.0 data CSV **and found none there, too**, after realizing because just assessing for duplicates those with multiple gene names using semi-colon will still get split and can see if duplicates with same code with no special handing needed. (I did that by editing the preparation cells in a copy of this notebook to get the raw data like I do at the start of `Standardizing_identifier_order_in_humap3-provided_csv.ipynb`.)\n",
    "\n",
    "------"
   ]
  },
  {
   "cell_type": "markdown",
   "id": "2eee8d3f-70ef-444a-b932-c7a092bc0ac3",
   "metadata": {},
   "source": [
    "#### Preparation"
   ]
  },
  {
   "cell_type": "markdown",
   "id": "4955a5ee-dfc5-49ab-b173-dc6ae50ae59f",
   "metadata": {},
   "source": [
    "##### Get the complexes with confidence scores\n",
    "\n",
    "While `curl -OL \"https://humap3.proteincomplexes.org/static/downloads/humap3/hu.MAP3.0_complexes_wConfidenceScores_total15326_wGenenames_20240922.csv\"` works on my local machine, the involved port may be blocked on MyBinder for getting it from the original resource. (Actually it turns out that data is not in tidy form and has inconsistencies in separators used, and so remediation was necessary anyway, see [here](additional_nbs/standardizing_initial_data/README_as.ipynb) if interested in more in that.) We'll obtain a standardized copy of that data placed where it is accessible in MyBinder-served sessions by running the next cell:"
   ]
  },
  {
   "cell_type": "code",
   "execution_count": 4,
   "id": "c80a36fc-fbb5-4980-aea5-25872d5aeb33",
   "metadata": {},
   "outputs": [
    {
     "name": "stdout",
     "output_type": "stream",
     "text": [
      "  % Total    % Received % Xferd  Average Speed   Time    Time     Time  Current\n",
      "                                 Dload  Upload   Total   Spent    Left  Speed\n",
      "100 1243k  100 1243k    0     0  2149k      0 --:--:-- --:--:-- --:--:-- 2152k\n"
     ]
    }
   ],
   "source": [
    "!curl -OL https://raw.githubusercontent.com/fomightez/humap3-binder/refs/heads/main/additional_nbs/standardizing_initial_data/hu.MAP3.0_complexes_wConfidenceScores_total15326_wGenenames_20240922InOrderMatched.csv"
   ]
  },
  {
   "cell_type": "markdown",
   "id": "6bcf301a-75c8-4faa-9c2e-028d7cb4bc55",
   "metadata": {},
   "source": [
    "##### Put the data on the complexes into Pandas dataframe\n",
    "\n",
    "(I'm using uv here just because I want to learn about it. I could have run the code in the script right in this notebook, and skipped the pickling and read pickle steps.)"
   ]
  },
  {
   "cell_type": "markdown",
   "id": "3a6e10f2-2228-4d44-a27b-cf93aa431e8b",
   "metadata": {},
   "source": [
    "Get the script to use with `uv` to read in the raw data and make a dataframe."
   ]
  },
  {
   "cell_type": "code",
   "execution_count": 5,
   "id": "fa6f2f0f-2231-4d35-b5c7-08d89d5aed2d",
   "metadata": {},
   "outputs": [
    {
     "name": "stdout",
     "output_type": "stream",
     "text": [
      "  % Total    % Received % Xferd  Average Speed   Time    Time     Time  Current\n",
      "                                 Dload  Upload   Total   Spent    Left  Speed\n",
      "100  1007  100  1007    0     0   3460      0 --:--:-- --:--:-- --:--:--  3460\n"
     ]
    }
   ],
   "source": [
    "!curl -OL https://raw.githubusercontent.com/fomightez/structurework/refs/heads/master/humap3-utilities/complexes_rawCSV_to_df.py"
   ]
  },
  {
   "cell_type": "code",
   "execution_count": 6,
   "id": "faf15ae5-dcc7-4ca2-91a0-e1087c915791",
   "metadata": {},
   "outputs": [
    {
     "name": "stdout",
     "output_type": "stream",
     "text": [
      "Reading inline script metadata from `\u001b[36mcomplexes_rawCSV_to_df.py\u001b[39m`\n",
      "\u001b[2K\u001b[2mInstalled \u001b[1m10 packages\u001b[0m \u001b[2min 135ms\u001b[0m\u001b[0m                              \u001b[0m         \n"
     ]
    },
    {
     "data": {
      "text/html": [
       "<div>\n",
       "<style scoped>\n",
       "    .dataframe tbody tr th:only-of-type {\n",
       "        vertical-align: middle;\n",
       "    }\n",
       "\n",
       "    .dataframe tbody tr th {\n",
       "        vertical-align: top;\n",
       "    }\n",
       "\n",
       "    .dataframe thead th {\n",
       "        text-align: right;\n",
       "    }\n",
       "</style>\n",
       "<table border=\"1\" class=\"dataframe\">\n",
       "  <thead>\n",
       "    <tr style=\"text-align: right;\">\n",
       "      <th></th>\n",
       "      <th>HuMAP3_ID</th>\n",
       "      <th>ComplexConfidence</th>\n",
       "      <th>Uniprot_ACCs</th>\n",
       "      <th>genenames</th>\n",
       "    </tr>\n",
       "  </thead>\n",
       "  <tbody>\n",
       "    <tr>\n",
       "      <th>0</th>\n",
       "      <td>huMAP3_00000.1</td>\n",
       "      <td>1</td>\n",
       "      <td>Q9UGQ2 P20963 Q9NWV4</td>\n",
       "      <td>CACFD1 CD247 CZIB</td>\n",
       "    </tr>\n",
       "    <tr>\n",
       "      <th>1</th>\n",
       "      <td>huMAP3_00001.1</td>\n",
       "      <td>1</td>\n",
       "      <td>Q9NWB1 O94887 Q9NQ92</td>\n",
       "      <td>RBFOX1 FARP2 COPRS</td>\n",
       "    </tr>\n",
       "    <tr>\n",
       "      <th>2</th>\n",
       "      <td>huMAP3_00002.1</td>\n",
       "      <td>1</td>\n",
       "      <td>Q8N3D4 Q9Y3A4</td>\n",
       "      <td>EHBP1L1 RRP7A</td>\n",
       "    </tr>\n",
       "    <tr>\n",
       "      <th>3</th>\n",
       "      <td>huMAP3_00003.1</td>\n",
       "      <td>1</td>\n",
       "      <td>Q5T2D2 O00429</td>\n",
       "      <td>TREML2 DNM1L</td>\n",
       "    </tr>\n",
       "    <tr>\n",
       "      <th>4</th>\n",
       "      <td>huMAP3_00004.1</td>\n",
       "      <td>1</td>\n",
       "      <td>Q9H9C1 Q9H267 O95460 P21941 P78540</td>\n",
       "      <td>VIPAS39 VPS33B MATN4 MATN1 ARG2</td>\n",
       "    </tr>\n",
       "    <tr>\n",
       "      <th>...</th>\n",
       "      <td>...</td>\n",
       "      <td>...</td>\n",
       "      <td>...</td>\n",
       "      <td>...</td>\n",
       "    </tr>\n",
       "    <tr>\n",
       "      <th>15321</th>\n",
       "      <td>huMAP3_15345.1</td>\n",
       "      <td>6</td>\n",
       "      <td>O14628 Q3SXZ3</td>\n",
       "      <td>ZNF195 ZNF718</td>\n",
       "    </tr>\n",
       "    <tr>\n",
       "      <th>15322</th>\n",
       "      <td>huMAP3_15346.1</td>\n",
       "      <td>6</td>\n",
       "      <td>Q6ZWT7 P08910 Q86VD1 Q9UJQ1 Q9Y6X9</td>\n",
       "      <td>MBOAT2 ABHD2 MORC1 LAMP5 MORC2</td>\n",
       "    </tr>\n",
       "    <tr>\n",
       "      <th>15323</th>\n",
       "      <td>huMAP3_15347.1</td>\n",
       "      <td>6</td>\n",
       "      <td>A6ND91 Q4V339</td>\n",
       "      <td>ASPDH ZNG1F</td>\n",
       "    </tr>\n",
       "    <tr>\n",
       "      <th>15324</th>\n",
       "      <td>huMAP3_15348.1</td>\n",
       "      <td>6</td>\n",
       "      <td>A6NKF2 P08217 Q8IVW6 Q99856</td>\n",
       "      <td>ARID3C CELA2A ARID3B ARID3A</td>\n",
       "    </tr>\n",
       "    <tr>\n",
       "      <th>15325</th>\n",
       "      <td>huMAP3_15349.1</td>\n",
       "      <td>6</td>\n",
       "      <td>Q5SRH9 P51888 Q9NRD9 Q9UHX1</td>\n",
       "      <td>TTC39A PRELP DUOX1 PUF60</td>\n",
       "    </tr>\n",
       "  </tbody>\n",
       "</table>\n",
       "<p>15326 rows × 4 columns</p>\n",
       "</div>"
      ],
      "text/plain": [
       "            HuMAP3_ID  ComplexConfidence                        Uniprot_ACCs  \\\n",
       "0      huMAP3_00000.1                  1                Q9UGQ2 P20963 Q9NWV4   \n",
       "1      huMAP3_00001.1                  1                Q9NWB1 O94887 Q9NQ92   \n",
       "2      huMAP3_00002.1                  1                       Q8N3D4 Q9Y3A4   \n",
       "3      huMAP3_00003.1                  1                       Q5T2D2 O00429   \n",
       "4      huMAP3_00004.1                  1  Q9H9C1 Q9H267 O95460 P21941 P78540   \n",
       "...               ...                ...                                 ...   \n",
       "15321  huMAP3_15345.1                  6                       O14628 Q3SXZ3   \n",
       "15322  huMAP3_15346.1                  6  Q6ZWT7 P08910 Q86VD1 Q9UJQ1 Q9Y6X9   \n",
       "15323  huMAP3_15347.1                  6                       A6ND91 Q4V339   \n",
       "15324  huMAP3_15348.1                  6         A6NKF2 P08217 Q8IVW6 Q99856   \n",
       "15325  huMAP3_15349.1                  6         Q5SRH9 P51888 Q9NRD9 Q9UHX1   \n",
       "\n",
       "                             genenames  \n",
       "0                    CACFD1 CD247 CZIB  \n",
       "1                   RBFOX1 FARP2 COPRS  \n",
       "2                        EHBP1L1 RRP7A  \n",
       "3                         TREML2 DNM1L  \n",
       "4      VIPAS39 VPS33B MATN4 MATN1 ARG2  \n",
       "...                                ...  \n",
       "15321                    ZNF195 ZNF718  \n",
       "15322   MBOAT2 ABHD2 MORC1 LAMP5 MORC2  \n",
       "15323                      ASPDH ZNG1F  \n",
       "15324      ARID3C CELA2A ARID3B ARID3A  \n",
       "15325         TTC39A PRELP DUOX1 PUF60  \n",
       "\n",
       "[15326 rows x 4 columns]"
      ]
     },
     "execution_count": 6,
     "metadata": {},
     "output_type": "execute_result"
    }
   ],
   "source": [
    "!uv run complexes_rawCSV_to_df.py hu.MAP3.0_complexes_wConfidenceScores_total15326_wGenenames_20240922InOrderMatched.csv\n",
    "import pandas as pd\n",
    "rd_df = pd.read_pickle('raw_complexes_pickled_df.pkl')\n",
    "rd_df"
   ]
  },
  {
   "cell_type": "markdown",
   "id": "c21e55a6-7064-430a-bacd-c9fbb7d2f9fe",
   "metadata": {},
   "source": [
    "That's a lot of complexes!\n",
    "\n",
    "--------"
   ]
  },
  {
   "cell_type": "markdown",
   "id": "b6663f04-1483-4e58-9692-84abffbeecfe",
   "metadata": {},
   "source": [
    "### Now to check for duplicates"
   ]
  },
  {
   "cell_type": "code",
   "execution_count": 24,
   "id": "2f3a0227-c905-4572-97e4-613e396f0f4c",
   "metadata": {},
   "outputs": [
    {
     "data": {
      "text/html": [
       "<pre style=\"white-space:pre;overflow-x:auto;line-height:normal;font-family:Menlo,'DejaVu Sans Mono',consolas,'Courier New',monospace\"><span style=\"font-weight: bold\">There are no occurences of duplicate identifiers observed in the two main columns</span>.\n",
       "</pre>\n"
      ],
      "text/plain": [
       "\u001b[1mThere are no occurences of duplicate identifiers observed in the two main columns\u001b[0m.\n"
      ]
     },
     "metadata": {},
     "output_type": "display_data"
    }
   ],
   "source": [
    "# check for duplicates in the two main columns\n",
    "rows_with_issue_content = []\n",
    "for row in rd_df.itertuples():\n",
    "    accs = row.Uniprot_ACCs.split()\n",
    "    set_of_accs = set(accs)\n",
    "    if len(accs) != len(set_of_accs):\n",
    "        print(f\"`{row.Uniprot_ACCs}` displays duplicates.\")\n",
    "        rows_with_issue_content.append(row)\n",
    "    gns = row.genenames.split()\n",
    "    # remove those with `SPECIALin_UniProt_but_no_gene` from consideration because can occur more than once to balance\n",
    "    identifiers_not_to_consider = ['SPECIALin_UniProt_but_no_gene']\n",
    "    gns = [x for x in gns if x not in identifiers_not_to_consider]\n",
    "    set_of_gns = set(gns)\n",
    "    if len(gns) != len(set_of_gns):\n",
    "        print(f\"`{row.genenames}` displays duplicates.\")\n",
    "        rows_with_issue_content.append(row)\n",
    "if not rows_with_issue_content:\n",
    "    import rich\n",
    "    rich.print(\"[bold]There are no occurences of duplicate identifiers observed in the two main columns[/bold].\")"
   ]
  },
  {
   "cell_type": "markdown",
   "id": "4c011fdb-9408-4de4-83b1-88ade9391cc6",
   "metadata": {},
   "source": [
    "-----\n",
    "\n",
    "Enjoy!"
   ]
  }
 ],
 "metadata": {
  "kernelspec": {
   "display_name": "Python 3 (ipykernel)",
   "language": "python",
   "name": "python3"
  },
  "language_info": {
   "codemirror_mode": {
    "name": "ipython",
    "version": 3
   },
   "file_extension": ".py",
   "mimetype": "text/x-python",
   "name": "python",
   "nbconvert_exporter": "python",
   "pygments_lexer": "ipython3",
   "version": "3.10.14"
  }
 },
 "nbformat": 4,
 "nbformat_minor": 5
}
